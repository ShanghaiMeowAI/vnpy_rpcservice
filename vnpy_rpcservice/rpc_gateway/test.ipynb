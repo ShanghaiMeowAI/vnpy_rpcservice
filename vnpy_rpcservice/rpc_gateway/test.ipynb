{
 "cells": [
  {
   "cell_type": "code",
   "execution_count": 2,
   "id": "5847ae6d",
   "metadata": {},
   "outputs": [
    {
     "name": "stderr",
     "output_type": "stream",
     "text": [
      "2025-07-29 10:52:55,473  INFO: 服务器连接成功，开始初始化查询\n",
      "2025-07-29 10:52:55,473  INFO: 服务器连接成功，开始初始化查询\n",
      "2025-07-29 10:52:55,486  INFO: 合约信息查询成功\n",
      "2025-07-29 10:52:55,486  INFO: 合约信息查询成功\n",
      "2025-07-29 10:52:55,493  INFO: 资金信息查询成功\n",
      "2025-07-29 10:52:55,493  INFO: 资金信息查询成功\n"
     ]
    },
    {
     "ename": "ValueError",
     "evalue": "'Net' is not a valid Direction",
     "output_type": "error",
     "traceback": [
      "\u001b[1;31m---------------------------------------------------------------------------\u001b[0m",
      "\u001b[1;31mValueError\u001b[0m                                Traceback (most recent call last)",
      "Cell \u001b[1;32mIn[2], line 28\u001b[0m\n\u001b[0;32m     25\u001b[0m main_engine\u001b[38;5;241m.\u001b[39madd_gateway(RpcGateway)\n\u001b[0;32m     27\u001b[0m setting \u001b[38;5;241m=\u001b[39m RpcGateway\u001b[38;5;241m.\u001b[39mdefault_setting\n\u001b[1;32m---> 28\u001b[0m \u001b[43mmain_engine\u001b[49m\u001b[38;5;241;43m.\u001b[39;49m\u001b[43mconnect\u001b[49m\u001b[43m(\u001b[49m\u001b[43msetting\u001b[49m\u001b[43m,\u001b[49m\u001b[43m \u001b[49m\u001b[38;5;124;43m'\u001b[39;49m\u001b[38;5;124;43mRPC\u001b[39;49m\u001b[38;5;124;43m'\u001b[39;49m\u001b[43m)\u001b[49m\n",
      "File \u001b[1;32mc:\\Users\\Administrator\\AppData\\Local\\Programs\\Python\\Python39\\lib\\site-packages\\vnpy\\trader\\engine.py:174\u001b[0m, in \u001b[0;36mMainEngine.connect\u001b[1;34m(self, setting, gateway_name)\u001b[0m\n\u001b[0;32m    172\u001b[0m gateway: BaseGateway \u001b[38;5;241m=\u001b[39m \u001b[38;5;28mself\u001b[39m\u001b[38;5;241m.\u001b[39mget_gateway(gateway_name)\n\u001b[0;32m    173\u001b[0m \u001b[38;5;28;01mif\u001b[39;00m gateway:\n\u001b[1;32m--> 174\u001b[0m     \u001b[43mgateway\u001b[49m\u001b[38;5;241;43m.\u001b[39;49m\u001b[43mconnect\u001b[49m\u001b[43m(\u001b[49m\u001b[43msetting\u001b[49m\u001b[43m)\u001b[49m\n",
      "File \u001b[1;32mc:\\Users\\Administrator\\AppData\\Local\\Programs\\Python\\Python39\\lib\\site-packages\\vnpy_rpcservice\\rpc_gateway\\rpc_gateway.py:56\u001b[0m, in \u001b[0;36mRpcGateway.connect\u001b[1;34m(self, setting)\u001b[0m\n\u001b[0;32m     52\u001b[0m \u001b[38;5;28mself\u001b[39m\u001b[38;5;241m.\u001b[39mclient\u001b[38;5;241m.\u001b[39mstart(req_address, pub_address)\n\u001b[0;32m     54\u001b[0m \u001b[38;5;28mself\u001b[39m\u001b[38;5;241m.\u001b[39mwrite_log(\u001b[38;5;124m\"\u001b[39m\u001b[38;5;124m服务器连接成功，开始初始化查询\u001b[39m\u001b[38;5;124m\"\u001b[39m)\n\u001b[1;32m---> 56\u001b[0m \u001b[38;5;28;43mself\u001b[39;49m\u001b[38;5;241;43m.\u001b[39;49m\u001b[43mquery_all\u001b[49m\u001b[43m(\u001b[49m\u001b[43m)\u001b[49m\n",
      "File \u001b[1;32mc:\\Users\\Administrator\\AppData\\Local\\Programs\\Python\\Python39\\lib\\site-packages\\vnpy_rpcservice\\rpc_gateway\\rpc_gateway.py:109\u001b[0m, in \u001b[0;36mRpcGateway.query_all\u001b[1;34m(self)\u001b[0m\n\u001b[0;32m    106\u001b[0m     \u001b[38;5;28mself\u001b[39m\u001b[38;5;241m.\u001b[39mon_account(account)\n\u001b[0;32m    107\u001b[0m \u001b[38;5;28mself\u001b[39m\u001b[38;5;241m.\u001b[39mwrite_log(\u001b[38;5;124m\"\u001b[39m\u001b[38;5;124m资金信息查询成功\u001b[39m\u001b[38;5;124m\"\u001b[39m)\n\u001b[1;32m--> 109\u001b[0m positions: \u001b[38;5;28mlist\u001b[39m[PositionData] \u001b[38;5;241m=\u001b[39m \u001b[38;5;28;43mself\u001b[39;49m\u001b[38;5;241;43m.\u001b[39;49m\u001b[43mclient\u001b[49m\u001b[38;5;241;43m.\u001b[39;49m\u001b[43mget_all_positions\u001b[49m\u001b[43m(\u001b[49m\u001b[43m)\u001b[49m\n\u001b[0;32m    110\u001b[0m \u001b[38;5;28;01mfor\u001b[39;00m position \u001b[38;5;129;01min\u001b[39;00m positions:\n\u001b[0;32m    111\u001b[0m     position\u001b[38;5;241m.\u001b[39mgateway_name \u001b[38;5;241m=\u001b[39m \u001b[38;5;28mself\u001b[39m\u001b[38;5;241m.\u001b[39mgateway_name\n",
      "File \u001b[1;32mc:\\Users\\Administrator\\AppData\\Local\\Programs\\Python\\Python39\\lib\\site-packages\\vnpy\\rpc\\client.py:81\u001b[0m, in \u001b[0;36mRpcClient.__getattr__.<locals>.dorpc\u001b[1;34m(*args, **kwargs)\u001b[0m\n\u001b[0;32m     78\u001b[0m         msg: \u001b[38;5;28mstr\u001b[39m \u001b[38;5;241m=\u001b[39m \u001b[38;5;124mf\u001b[39m\u001b[38;5;124m\"\u001b[39m\u001b[38;5;124mTimeout of \u001b[39m\u001b[38;5;132;01m{\u001b[39;00mtimeout\u001b[38;5;132;01m}\u001b[39;00m\u001b[38;5;124mms reached for \u001b[39m\u001b[38;5;132;01m{\u001b[39;00mreq\u001b[38;5;132;01m}\u001b[39;00m\u001b[38;5;124m\"\u001b[39m\n\u001b[0;32m     79\u001b[0m         \u001b[38;5;28;01mraise\u001b[39;00m RemoteException(msg)\n\u001b[1;32m---> 81\u001b[0m     rep \u001b[38;5;241m=\u001b[39m \u001b[38;5;28;43mself\u001b[39;49m\u001b[38;5;241;43m.\u001b[39;49m\u001b[43m_socket_req\u001b[49m\u001b[38;5;241;43m.\u001b[39;49m\u001b[43mrecv_pyobj\u001b[49m\u001b[43m(\u001b[49m\u001b[43m)\u001b[49m\n\u001b[0;32m     83\u001b[0m \u001b[38;5;66;03m# Return response if successed; Trigger exception if failed\u001b[39;00m\n\u001b[0;32m     84\u001b[0m \u001b[38;5;28;01mif\u001b[39;00m rep[\u001b[38;5;241m0\u001b[39m]:\n",
      "File \u001b[1;32m~\\AppData\\Roaming\\Python\\Python39\\site-packages\\zmq\\sugar\\socket.py:990\u001b[0m, in \u001b[0;36mSocket.recv_pyobj\u001b[1;34m(self, flags)\u001b[0m\n\u001b[0;32m    962\u001b[0m \u001b[38;5;250m\u001b[39m\u001b[38;5;124;03m\"\"\"\u001b[39;00m\n\u001b[0;32m    963\u001b[0m \u001b[38;5;124;03mReceive a Python object as a message using UNSAFE pickle to serialize.\u001b[39;00m\n\u001b[0;32m    964\u001b[0m \n\u001b[1;32m   (...)\u001b[0m\n\u001b[0;32m    987\u001b[0m \u001b[38;5;124;03m    for any of the reasons :func:`~Socket.recv` might fail\u001b[39;00m\n\u001b[0;32m    988\u001b[0m \u001b[38;5;124;03m\"\"\"\u001b[39;00m\n\u001b[0;32m    989\u001b[0m msg \u001b[38;5;241m=\u001b[39m \u001b[38;5;28mself\u001b[39m\u001b[38;5;241m.\u001b[39mrecv(flags)\n\u001b[1;32m--> 990\u001b[0m \u001b[38;5;28;01mreturn\u001b[39;00m \u001b[38;5;28;43mself\u001b[39;49m\u001b[38;5;241;43m.\u001b[39;49m\u001b[43m_deserialize\u001b[49m\u001b[43m(\u001b[49m\u001b[43mmsg\u001b[49m\u001b[43m,\u001b[49m\u001b[43m \u001b[49m\u001b[43mpickle\u001b[49m\u001b[38;5;241;43m.\u001b[39;49m\u001b[43mloads\u001b[49m\u001b[43m)\u001b[49m\n",
      "File \u001b[1;32m~\\AppData\\Roaming\\Python\\Python39\\site-packages\\zmq\\sugar\\socket.py:828\u001b[0m, in \u001b[0;36mSocket._deserialize\u001b[1;34m(self, recvd, load)\u001b[0m\n\u001b[0;32m    808\u001b[0m \u001b[38;5;28;01mdef\u001b[39;00m\u001b[38;5;250m \u001b[39m\u001b[38;5;21m_deserialize\u001b[39m(\n\u001b[0;32m    809\u001b[0m     \u001b[38;5;28mself\u001b[39m,\n\u001b[0;32m    810\u001b[0m     recvd: \u001b[38;5;28mbytes\u001b[39m,\n\u001b[0;32m    811\u001b[0m     load: Callable[[\u001b[38;5;28mbytes\u001b[39m], Any],\n\u001b[0;32m    812\u001b[0m ) \u001b[38;5;241m-\u001b[39m\u001b[38;5;241m>\u001b[39m Any:\n\u001b[0;32m    813\u001b[0m \u001b[38;5;250m    \u001b[39m\u001b[38;5;124;03m\"\"\"Deserialize a received message\u001b[39;00m\n\u001b[0;32m    814\u001b[0m \n\u001b[0;32m    815\u001b[0m \u001b[38;5;124;03m    Override in subclass (e.g. Futures) if recvd is not the raw bytes.\u001b[39;00m\n\u001b[1;32m   (...)\u001b[0m\n\u001b[0;32m    826\u001b[0m \n\u001b[0;32m    827\u001b[0m \u001b[38;5;124;03m    \"\"\"\u001b[39;00m\n\u001b[1;32m--> 828\u001b[0m     \u001b[38;5;28;01mreturn\u001b[39;00m \u001b[43mload\u001b[49m\u001b[43m(\u001b[49m\u001b[43mrecvd\u001b[49m\u001b[43m)\u001b[49m\n",
      "File \u001b[1;32mc:\\Users\\Administrator\\AppData\\Local\\Programs\\Python\\Python39\\lib\\enum.py:315\u001b[0m, in \u001b[0;36mEnumMeta.__call__\u001b[1;34m(cls, value, names, module, qualname, type, start)\u001b[0m\n\u001b[0;32m    290\u001b[0m \u001b[38;5;250m\u001b[39m\u001b[38;5;124;03m\"\"\"Either returns an existing member, or creates a new enum class.\u001b[39;00m\n\u001b[0;32m    291\u001b[0m \n\u001b[0;32m    292\u001b[0m \u001b[38;5;124;03mThis method is used both when an enum class is given a value to match\u001b[39;00m\n\u001b[1;32m   (...)\u001b[0m\n\u001b[0;32m    312\u001b[0m \n\u001b[0;32m    313\u001b[0m \u001b[38;5;124;03m\"\"\"\u001b[39;00m\n\u001b[0;32m    314\u001b[0m \u001b[38;5;28;01mif\u001b[39;00m names \u001b[38;5;129;01mis\u001b[39;00m \u001b[38;5;28;01mNone\u001b[39;00m:  \u001b[38;5;66;03m# simple value lookup\u001b[39;00m\n\u001b[1;32m--> 315\u001b[0m     \u001b[38;5;28;01mreturn\u001b[39;00m \u001b[38;5;28;43mcls\u001b[39;49m\u001b[38;5;241;43m.\u001b[39;49m\u001b[38;5;21;43m__new__\u001b[39;49m\u001b[43m(\u001b[49m\u001b[38;5;28;43mcls\u001b[39;49m\u001b[43m,\u001b[49m\u001b[43m \u001b[49m\u001b[43mvalue\u001b[49m\u001b[43m)\u001b[49m\n\u001b[0;32m    316\u001b[0m \u001b[38;5;66;03m# otherwise, functional API: we're creating a new Enum type\u001b[39;00m\n\u001b[0;32m    317\u001b[0m \u001b[38;5;28;01mreturn\u001b[39;00m \u001b[38;5;28mcls\u001b[39m\u001b[38;5;241m.\u001b[39m_create_(value, names, module\u001b[38;5;241m=\u001b[39mmodule, qualname\u001b[38;5;241m=\u001b[39mqualname, \u001b[38;5;28mtype\u001b[39m\u001b[38;5;241m=\u001b[39m\u001b[38;5;28mtype\u001b[39m, start\u001b[38;5;241m=\u001b[39mstart)\n",
      "File \u001b[1;32mc:\\Users\\Administrator\\AppData\\Local\\Programs\\Python\\Python39\\lib\\enum.py:611\u001b[0m, in \u001b[0;36mEnum.__new__\u001b[1;34m(cls, value)\u001b[0m\n\u001b[0;32m    609\u001b[0m ve_exc \u001b[38;5;241m=\u001b[39m \u001b[38;5;167;01mValueError\u001b[39;00m(\u001b[38;5;124m\"\u001b[39m\u001b[38;5;132;01m%r\u001b[39;00m\u001b[38;5;124m is not a valid \u001b[39m\u001b[38;5;132;01m%s\u001b[39;00m\u001b[38;5;124m\"\u001b[39m \u001b[38;5;241m%\u001b[39m (value, \u001b[38;5;28mcls\u001b[39m\u001b[38;5;241m.\u001b[39m\u001b[38;5;18m__qualname__\u001b[39m))\n\u001b[0;32m    610\u001b[0m \u001b[38;5;28;01mif\u001b[39;00m result \u001b[38;5;129;01mis\u001b[39;00m \u001b[38;5;28;01mNone\u001b[39;00m \u001b[38;5;129;01mand\u001b[39;00m exc \u001b[38;5;129;01mis\u001b[39;00m \u001b[38;5;28;01mNone\u001b[39;00m:\n\u001b[1;32m--> 611\u001b[0m     \u001b[38;5;28;01mraise\u001b[39;00m ve_exc\n\u001b[0;32m    612\u001b[0m \u001b[38;5;28;01melif\u001b[39;00m exc \u001b[38;5;129;01mis\u001b[39;00m \u001b[38;5;28;01mNone\u001b[39;00m:\n\u001b[0;32m    613\u001b[0m     exc \u001b[38;5;241m=\u001b[39m \u001b[38;5;167;01mTypeError\u001b[39;00m(\n\u001b[0;32m    614\u001b[0m             \u001b[38;5;124m'\u001b[39m\u001b[38;5;124merror in \u001b[39m\u001b[38;5;132;01m%s\u001b[39;00m\u001b[38;5;124m._missing_: returned \u001b[39m\u001b[38;5;132;01m%r\u001b[39;00m\u001b[38;5;124m instead of None or a valid member\u001b[39m\u001b[38;5;124m'\u001b[39m\n\u001b[0;32m    615\u001b[0m             \u001b[38;5;241m%\u001b[39m (\u001b[38;5;28mcls\u001b[39m\u001b[38;5;241m.\u001b[39m\u001b[38;5;18m__name__\u001b[39m, result)\n\u001b[0;32m    616\u001b[0m             )\n",
      "\u001b[1;31mValueError\u001b[0m: 'Net' is not a valid Direction"
     ]
    },
    {
     "name": "stderr",
     "output_type": "stream",
     "text": [
      "Exception in thread Thread-10:\n",
      "Traceback (most recent call last):\n",
      "  File \"c:\\Users\\Administrator\\AppData\\Local\\Programs\\Python\\Python39\\lib\\threading.py\", line 950, in _bootstrap_inner\n",
      "    self.run()\n",
      "  File \"C:\\Users\\Administrator\\AppData\\Roaming\\Python\\Python39\\site-packages\\ipykernel\\ipkernel.py\", line 772, in run_closure\n",
      "    _threading_Thread_run(self)\n",
      "  File \"c:\\Users\\Administrator\\AppData\\Local\\Programs\\Python\\Python39\\lib\\threading.py\", line 888, in run\n",
      "    self._target(*self._args, **self._kwargs)\n",
      "  File \"c:\\Users\\Administrator\\AppData\\Local\\Programs\\Python\\Python39\\lib\\site-packages\\vnpy\\rpc\\client.py\", line 143, in run\n",
      "    topic, data = self._socket_sub.recv_pyobj(flags=zmq.NOBLOCK)\n",
      "  File \"C:\\Users\\Administrator\\AppData\\Roaming\\Python\\Python39\\site-packages\\zmq\\sugar\\socket.py\", line 990, in recv_pyobj\n",
      "    return self._deserialize(msg, pickle.loads)\n",
      "  File \"C:\\Users\\Administrator\\AppData\\Roaming\\Python\\Python39\\site-packages\\zmq\\sugar\\socket.py\", line 828, in _deserialize\n",
      "    return load(recvd)\n",
      "  File \"c:\\Users\\Administrator\\AppData\\Local\\Programs\\Python\\Python39\\lib\\enum.py\", line 315, in __call__\n",
      "    return cls.__new__(cls, value)\n",
      "  File \"c:\\Users\\Administrator\\AppData\\Local\\Programs\\Python\\Python39\\lib\\enum.py\", line 611, in __new__\n",
      "    raise ve_exc\n",
      "ValueError: 'Net' is not a valid Direction\n"
     ]
    }
   ],
   "source": [
    "import multiprocessing\n",
    "import sys\n",
    "from time import sleep\n",
    "from datetime import datetime, time\n",
    "from logging import INFO\n",
    "\n",
    "from vnpy.event import EventEngine\n",
    "from vnpy.trader.setting import SETTINGS\n",
    "from vnpy.trader.engine import MainEngine\n",
    "from vnpy_rpcservice import RpcGateway\n",
    "\n",
    "\n",
    "SETTINGS[\"log.active\"] = True\n",
    "SETTINGS[\"log.level\"] = INFO\n",
    "SETTINGS[\"log.console\"] = True\n",
    "\n",
    "\n",
    "\"\"\"\n",
    "Running in the child process.\n",
    "\"\"\"\n",
    "SETTINGS[\"log.file\"] = True\n",
    "\n",
    "event_engine = EventEngine()\n",
    "main_engine = MainEngine(event_engine)\n",
    "main_engine.add_gateway(RpcGateway)\n",
    "\n",
    "setting = RpcGateway.default_setting\n",
    "main_engine.connect(setting, 'RPC')\n"
   ]
  }
 ],
 "metadata": {
  "kernelspec": {
   "display_name": "Python 3",
   "language": "python",
   "name": "python3"
  },
  "language_info": {
   "codemirror_mode": {
    "name": "ipython",
    "version": 3
   },
   "file_extension": ".py",
   "mimetype": "text/x-python",
   "name": "python",
   "nbconvert_exporter": "python",
   "pygments_lexer": "ipython3",
   "version": "3.9.0"
  }
 },
 "nbformat": 4,
 "nbformat_minor": 5
}
